{
 "cells": [
  {
   "cell_type": "code",
   "execution_count": 1,
   "metadata": {},
   "outputs": [],
   "source": [
    "import numpy as np\n",
    "import pandas as pd\n",
    "import seaborn as sns\n",
    "import matplotlib.pyplot as plt\n",
    "from matplotlib import style\n",
    "import scipy.stats as ss\n",
    "style.use(\"seaborn\")\n",
    "%matplotlib inline\n",
    "\n",
    "from IPython.display import display\n",
    "# from ipywidgets import interact, interactive, fixed, interact_manual\n",
    "import ipywidgets as widgets\n",
    "\n",
    "# import bqplot.pyplot as bq\n",
    "\n",
    "import warnings\n",
    "warnings.filterwarnings(\"ignore\")\n"
   ]
  },
  {
   "cell_type": "markdown",
   "metadata": {},
   "source": [
    "# Regresión lineal Simple"
   ]
  },
  {
   "cell_type": "code",
   "execution_count": 2,
   "metadata": {},
   "outputs": [],
   "source": [
    "def ran_scatter(x_med=0, \n",
    "                x_desv=1,\n",
    "                x_n=100,\n",
    "                pendiente=0,\n",
    "                intercepto=0,\n",
    "                desv_error=1.0,\n",
    "                transparencia=0.75):\n",
    "#     plt.figure(2)\n",
    "    x_rand=np.random.normal(x_med,x_desv,x_n)\n",
    "    reg_error=np.random.normal(0,x_desv*desv_error,x_n)\n",
    "    y_pred=(x_rand*pendiente)+intercepto+reg_error\n",
    "    x_line = np.linspace(min(x_rand)-(min(x_rand)*.1), \n",
    "                             max(x_rand)+(max(x_rand)*.1)\n",
    "                             , 100)\n",
    "    y_line=(x_line*pendiente)+intercepto\n",
    "    plt.figure(figsize=(12,12))\n",
    "    plt.scatter(x_rand, y_pred, alpha=transparencia)\n",
    "    plt.plot(x_line, y_line,'--', linewidth=2)\n",
    "    plt.axes().set_aspect('equal', 'datalim')#plt.set_aspect('equal')\n",
    "    plt.show()\n"
   ]
  },
  {
   "cell_type": "code",
   "execution_count": 3,
   "metadata": {},
   "outputs": [
    {
     "data": {
      "image/png": "[encoded data removed]",
      "text/plain": [
       "<Figure size 864x864 with 1 Axes>"
      ]
     },
     "metadata": {
      "needs_background": "light"
     },
     "output_type": "display_data"
    },
    {
     "data": {
      "application/vnd.jupyter.widget-view+json": {
       "model_id": "9d89dded995d42ac948b6a3b5d7c22bb",
       "version_major": 2,
       "version_minor": 0
      },
      "text/plain": [
       "HBox(children=(VBox(children=(IntSlider(value=0, description='Promedio', max=150, min=-150), FloatSlider(value…"
      ]
     },
     "metadata": {},
     "output_type": "display_data"
    }
   ],
   "source": [
    "x_med = widgets.IntSlider(value=0,\n",
    "                          min=-150,\n",
    "                          max=150,\n",
    "                          description='Promedio')\n",
    "\n",
    "x_desv = widgets.FloatSlider(value=1,\n",
    "                             min=1,\n",
    "                             max=50,\n",
    "                             step=.1,\n",
    "                             description='Desv Estándar',\n",
    "                              readout_format='.1f')\n",
    "\n",
    "x_n = widgets.IntSlider(value=100,\n",
    "                        min=2,\n",
    "                        max=1500,\n",
    "                        description='Tam muestral')\n",
    "\n",
    "pendiente=widgets.FloatSlider(value=0,\n",
    "                              min=-1,\n",
    "                              max=1,\n",
    "                              step=.01,\n",
    "                              description='Pendiente',\n",
    "                              readout_format='.2f')\n",
    "\n",
    "intercepto= widgets.IntSlider(value=0,\n",
    "                              min=-150,\n",
    "                              max=150,\n",
    "                              description='Intercepto')\n",
    "\n",
    "\n",
    "desv_error=widgets.FloatSlider(value=1,\n",
    "                               min=0,\n",
    "                               max=1.5,\n",
    "                               step=.01,\n",
    "                               description='Dispersión',\n",
    "                               readout_format='.2f')\n",
    "\n",
    "transparencia=widgets.FloatSlider(value=0.5,\n",
    "                                  min=0,\n",
    "                                  max=1,\n",
    "                                  step=.01,\n",
    "                                  description='Transparencia',\n",
    "                                  readout_format='.2f')\n",
    "\n",
    "out = widgets.interactive_output(ran_scatter, {'x_med': x_med, \n",
    "                                               'x_desv': x_desv, \n",
    "                                               'x_n': x_n,\n",
    "                                               'pendiente':pendiente,\n",
    "                                               'intercepto':intercepto,\n",
    "                                               'desv_error':desv_error,\n",
    "                                               'transparencia':transparencia})\n",
    "\n",
    "widgets.HBox([widgets.VBox([x_med, x_desv, x_n, pendiente,intercepto,desv_error,transparencia]), out])\n"
   ]
  },
  {
   "cell_type": "code",
   "execution_count": 4,
   "metadata": {},
   "outputs": [],
   "source": [
    "# interact_randscatter = interactive(ran_scatter, \n",
    "#                                    x_med=(5,150), \n",
    "#                                    x_desv=(1,50), \n",
    "#                                    x_n=(10,2500), \n",
    "#                                    pendiente=(-1.0,1.0,.01), \n",
    "#                                    intercepto=(0,100),\n",
    "#                                    transparencia=(0.0, 1.0, .01),\n",
    "#                                    desv_error=(0.0,1.5,.01))\n",
    "# interact_randscatter"
   ]
  }
 ],
 "metadata": {
  "kernelspec": {
   "display_name": "Python 3",
   "language": "python",
   "name": "python3"
  },
  "language_info": {
   "codemirror_mode": {
    "name": "ipython",
    "version": 3
   },
   "file_extension": ".py",
   "mimetype": "text/x-python",
   "name": "python",
   "nbconvert_exporter": "python",
   "pygments_lexer": "ipython3",
   "version": "3.7.6"
  }
 },
 "nbformat": 4,
 "nbformat_minor": 4
}
