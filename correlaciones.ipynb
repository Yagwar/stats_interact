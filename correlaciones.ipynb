{
 "cells": [
  {
   "cell_type": "code",
   "execution_count": 6,
   "metadata": {},
   "outputs": [],
   "source": [
    "import numpy as np\n",
    "import pandas as pd\n",
    "import seaborn as sns\n",
    "import matplotlib.pyplot as plt\n",
    "from matplotlib import style\n",
    "import scipy.stats as ss\n",
    "style.use(\"seaborn\")\n",
    "%matplotlib inline\n",
    "\n",
    "from IPython.display import display\n",
    "# from ipywidgets import interact, interactive, fixed, interact_manual\n",
    "import ipywidgets as widgets\n",
    "\n",
    "# import bqplot.pyplot as bq\n",
    "\n",
    "import warnings\n",
    "warnings.filterwarnings(\"ignore\")\n"
   ]
  },
  {
   "cell_type": "markdown",
   "metadata": {},
   "source": [
    "# Regresión lineal Simple"
   ]
  },
  {
   "cell_type": "code",
   "execution_count": 7,
   "metadata": {},
   "outputs": [],
   "source": [
    "def ran_scatter(x_med=0, \n",
    "                x_desv=1,\n",
    "                x_n=100,\n",
    "                pendiente=0,\n",
    "                intercepto=0,\n",
    "                dispers=1.0,\n",
    "                transparencia=0.75,\n",
    "                origen=False):\n",
    "#     plt.figure(2)\n",
    "    x_rand=np.random.normal(x_med,x_desv,x_n)\n",
    "    reg_error=np.random.normal(0,x_desv*dispers,x_n)\n",
    "    y_pred=(x_rand*pendiente)+intercepto+reg_error\n",
    "    slope_reg, intercept_reg, r_value_reg, p_value_reg, std_err_reg = ss.linregress(x_rand,y_pred)\n",
    "    x_line = np.linspace(x_med+4*x_desv,\n",
    "                         x_med-4*x_desv,\n",
    "                         2)\n",
    "    y_line=(x_line*pendiente)+intercepto\n",
    "    y_line_reg=(x_line*slope_reg)+intercept_reg\n",
    "    \n",
    "    plt.figure(figsize=(10,10))\n",
    "    if origen:\n",
    "        plt.axvline(x=0, linestyle=\"--\", color=\"k\", alpha=.5)#, linewidth=2.5\n",
    "        plt.axhline(y=0, linestyle=\"--\", color=\"k\", alpha=.5)#, linewidth=2.5\n",
    "    plt.scatter(x_rand, y_pred, alpha=transparencia)\n",
    "    plt.plot(x_line, y_line,'--', linewidth=1, alpha=0.5, label=\"Datos simulados\")\n",
    "    plt.plot(x_line, y_line_reg,'-', linewidth=2, alpha=0.65, color=\"k\", label=\"Pearson r={} sig={}\".format(round(r_value_reg,2), round(p_value_reg,2)))\n",
    "    plt.legend()\n",
    "    plt.axes().set_aspect('equal', 'datalim')#plt.set_aspect('equal')\n",
    "    plt.show()\n",
    "\n",
    "def reset_values(b):\n",
    "    \"\"\"Reset the interactive plots to inital values.\"\"\"\n",
    "    origen.value=False\n",
    "    x_med.value=0\n",
    "    x_desv.value=1\n",
    "    x_n.value=100\n",
    "    pendiente.value=0\n",
    "    intercepto.value=0\n",
    "    dispers.value=1\n",
    "    transparencia.value=.5\n"
   ]
  },
  {
   "cell_type": "code",
   "execution_count": 23,
   "metadata": {},
   "outputs": [
    {
     "data": {
      "image/png": "[encoded data removed]",
      "text/plain": [
       "<Figure size 720x720 with 1 Axes>"
      ]
     },
     "metadata": {
      "needs_background": "light"
     },
     "output_type": "display_data"
    },
    {
     "data": {
      "application/vnd.jupyter.widget-view+json": {
       "model_id": "3606d7bf0f464ef0af2163d27b25a926",
       "version_major": 2,
       "version_minor": 0
      },
      "text/plain": [
       "VBox(children=(Tab(children=(HBox(children=(VBox(children=(IntSlider(value=0, description='Promedio', max=150,…"
      ]
     },
     "metadata": {},
     "output_type": "display_data"
    }
   ],
   "source": [
    "x_med = widgets.IntSlider(value=0,\n",
    "                          min=-150,\n",
    "                          max=150,\n",
    "                          description='Promedio')\n",
    "\n",
    "x_desv = widgets.FloatSlider(value=1,\n",
    "                             min=1,\n",
    "                             max=50,\n",
    "                             step=.1,\n",
    "                             description='Desv Estándar',\n",
    "                              readout_format='.1f')\n",
    "\n",
    "x_n = widgets.IntSlider(value=100,\n",
    "                        min=2,\n",
    "                        max=1500,\n",
    "                        description='Tam muestral')\n",
    "\n",
    "pendiente=widgets.FloatSlider(value=0,\n",
    "                              min=-1,\n",
    "                              max=1,\n",
    "                              step=.01,\n",
    "                              description='Pendiente',\n",
    "                              readout_format='.2f')\n",
    "\n",
    "intercepto= widgets.IntSlider(value=0,\n",
    "                              min=-150,\n",
    "                              max=150,\n",
    "                              description='Intercepto')\n",
    "\n",
    "\n",
    "dispers=widgets.FloatSlider(value=1,\n",
    "                               min=0,\n",
    "                               max=1.5,\n",
    "                               step=.01,\n",
    "                               description='Dispersión',\n",
    "                               readout_format='.2f')\n",
    "\n",
    "transparencia=widgets.FloatSlider(value=0.5,\n",
    "                                  min=0,\n",
    "                                  max=1,\n",
    "                                  step=.01,\n",
    "                                  description='Transparencia',\n",
    "                                  readout_format='.2f')\n",
    "\n",
    "origen=widgets.ToggleButton(value=False,\n",
    "                            description='Fijar Origen (0,0)')#icon='check')\n",
    "\n",
    "reset_button = widgets.Button(description='Reiniciar valores')\n",
    "reset_button.on_click(reset_values)\n",
    "\n",
    "\n",
    "out = widgets.interactive_output(ran_scatter, {'x_med': x_med, \n",
    "                                               'x_desv': x_desv, \n",
    "                                               'x_n': x_n,\n",
    "                                               'pendiente':pendiente,\n",
    "                                               'intercepto':intercepto,\n",
    "                                               'dispers':dispers,\n",
    "                                               'transparencia':transparencia,\n",
    "                                               'origen':origen})\n",
    "\n",
    "x_ctrlr=widgets.VBox([x_med, x_desv, x_n,])\n",
    "y_ctrlr=widgets.VBox([pendiente,intercepto,dispers])\n",
    "aestetics_ctrlr=widgets.VBox([transparencia,origen,reset_button])\n",
    "\n",
    "####\n",
    "tab1 = widgets.HBox([x_ctrlr,y_ctrlr])\n",
    "tab2 = widgets.HBox([aestetics_ctrlr])\n",
    "\n",
    "tab = widgets.Tab(children=[tab1, tab2])\n",
    "tab.set_title(0, 'Datos')\n",
    "tab.set_title(1, 'Gráfico')\n",
    "####\n",
    "# formula_regr=widgets.HTMLMath(value=r\"$$\\hat{y}=\\beta_{0}+\\beta_{1} * x = \"+str(intercepto.value)+\" + \"+str(pendiente.value)+\" * x$$\")\n",
    "\n",
    "widgets.VBox([tab,out])#,coef_pearson #formula_regr,\n"
   ]
  }
 ],
 "metadata": {
  "kernelspec": {
   "display_name": "Python 3",
   "language": "python",
   "name": "python3"
  },
  "language_info": {
   "codemirror_mode": {
    "name": "ipython",
    "version": 3
   },
   "file_extension": ".py",
   "mimetype": "text/x-python",
   "name": "python",
   "nbconvert_exporter": "python",
   "pygments_lexer": "ipython3",
   "version": "3.7.6"
  }
 },
 "nbformat": 4,
 "nbformat_minor": 4
}
